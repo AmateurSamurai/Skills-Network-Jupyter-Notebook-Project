{
 "cells": [
  {
   "cell_type": "markdown",
   "id": "95caea38-ea06-488a-85bd-50960aa3d53b",
   "metadata": {
    "tags": []
   },
   "source": [
    "# Data Science Tools and Ecosystem"
   ]
  },
  {
   "cell_type": "markdown",
   "id": "6cffb139-bb21-4581-b9fc-b1de87b1fd28",
   "metadata": {
    "tags": []
   },
   "source": [
    "## Author: Shane Murphy"
   ]
  },
  {
   "cell_type": "markdown",
   "id": "633e562c-8101-439a-b312-b1c7a19d7caf",
   "metadata": {},
   "source": [
    "In this notebook, Data Science Tools and Ecosystem are summarized."
   ]
  },
  {
   "cell_type": "markdown",
   "id": "a344dbef-3f2d-4826-88ce-3586cc05e166",
   "metadata": {},
   "source": [
    "**Objectives**\n",
    "\n",
    "- List popular data science languages.\n",
    "- List commonly used data science libraries.\n",
    "- Evaluate arithmetic expressions in Python"
   ]
  },
  {
   "cell_type": "markdown",
   "id": "586d5612-9237-45e1-b779-b5dee2537fa9",
   "metadata": {},
   "source": [
    "Some of the popular languages that Data Scientists use are:\n",
    "\n",
    "- Python\n",
    "- R\n",
    "- Julia"
   ]
  },
  {
   "cell_type": "markdown",
   "id": "38f0f588-e942-4bc1-b684-ae282d477556",
   "metadata": {
    "tags": []
   },
   "source": [
    "Some of the commonly used libraries used by Data Scientists include:\n",
    "    \n",
    "- NumPy\n",
    "- Pandas\n",
    "- Matplotlib\n",
    "- Seaborn\n",
    "- Keras"
   ]
  },
  {
   "cell_type": "markdown",
   "id": "4c59adaa-85a5-45bb-be02-ec6f4c0de0bf",
   "metadata": {},
   "source": [
    "| Data Science Tools |\n",
    "---\n",
    "| MySQL |\n",
    "| Apache AirFlow | \n",
    "| TensorFlow |\n"
   ]
  },
  {
   "cell_type": "markdown",
   "id": "6624193b-0d4a-44a3-8d70-15494d12ccac",
   "metadata": {},
   "source": [
    "### Below are a few examples of evaluating arithmetic expressions in Python.\n"
   ]
  },
  {
   "cell_type": "code",
   "execution_count": 3,
   "id": "d4ede4ab-c211-4c52-bec7-2b39a14d0f76",
   "metadata": {
    "tags": []
   },
   "outputs": [
    {
     "data": {
      "text/plain": [
       "17"
      ]
     },
     "execution_count": 3,
     "metadata": {},
     "output_type": "execute_result"
    }
   ],
   "source": [
    "#This a simple arithmetic expression to mutiply then add integers\n",
    "(3*4)+5"
   ]
  },
  {
   "cell_type": "code",
   "execution_count": 4,
   "id": "4dcda12d-14d1-42bc-8ab1-8753c48fc3e7",
   "metadata": {
    "tags": []
   },
   "outputs": [
    {
     "data": {
      "text/plain": [
       "3.3333333333333335"
      ]
     },
     "execution_count": 4,
     "metadata": {},
     "output_type": "execute_result"
    }
   ],
   "source": [
    "#This will convert 200 minutes to hours by diving by 60\n",
    "\n",
    "200/60"
   ]
  }
 ],
 "metadata": {
  "kernelspec": {
   "display_name": "Python",
   "language": "python",
   "name": "conda-env-python-py"
  },
  "language_info": {
   "codemirror_mode": {
    "name": "ipython",
    "version": 3
   },
   "file_extension": ".py",
   "mimetype": "text/x-python",
   "name": "python",
   "nbconvert_exporter": "python",
   "pygments_lexer": "ipython3",
   "version": "3.7.12"
  }
 },
 "nbformat": 4,
 "nbformat_minor": 5
}
